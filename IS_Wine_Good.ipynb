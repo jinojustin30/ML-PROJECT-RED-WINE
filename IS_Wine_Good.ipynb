{
  "nbformat": 4,
  "nbformat_minor": 0,
  "metadata": {
    "colab": {
      "name": " IS_Wine_Good",
      "provenance": [],
      "collapsed_sections": [],
      "include_colab_link": true
    },
    "kernelspec": {
      "name": "python3",
      "display_name": "Python 3"
    }
  },
  "cells": [
    {
      "cell_type": "markdown",
      "metadata": {
        "id": "view-in-github",
        "colab_type": "text"
      },
      "source": [
        "<a href=\"https://colab.research.google.com/github/jinojustin30/ML-PROJECT-RED-WINE/blob/main/IS_Wine_Good.ipynb\" target=\"_parent\"><img src=\"https://colab.research.google.com/assets/colab-badge.svg\" alt=\"Open In Colab\"/></a>"
      ]
    },
    {
      "cell_type": "markdown",
      "metadata": {
        "id": "iC2QDIebn7BB"
      },
      "source": [
        "Import Libraries"
      ]
    },
    {
      "cell_type": "code",
      "metadata": {
        "id": "IqAHwill09_x"
      },
      "source": [
        "import pandas as pd\n",
        "import numpy as np\n",
        "import matplotlib.pyplot as plt #importing libraries\n"
      ],
      "execution_count": null,
      "outputs": []
    },
    {
      "cell_type": "markdown",
      "metadata": {
        "id": "ZTc3F8DIoIG-"
      },
      "source": [
        "Import Data and pre process it\n"
      ]
    },
    {
      "cell_type": "code",
      "metadata": {
        "id": "0tyIuou02yYa"
      },
      "source": [
        "dataset = pd.read_csv('/content/winequality-red.csv')"
      ],
      "execution_count": null,
      "outputs": []
    },
    {
      "cell_type": "code",
      "metadata": {
        "id": "8eYQM-FyRN5n",
        "outputId": "1f5b5139-ad7e-45cb-aedf-c0a891b3b5ac",
        "colab": {
          "base_uri": "https://localhost:8080/",
          "height": 347
        }
      },
      "source": [
        "dataset.info()"
      ],
      "execution_count": null,
      "outputs": [
        {
          "output_type": "stream",
          "text": [
            "<class 'pandas.core.frame.DataFrame'>\n",
            "RangeIndex: 1599 entries, 0 to 1598\n",
            "Data columns (total 12 columns):\n",
            " #   Column                Non-Null Count  Dtype  \n",
            "---  ------                --------------  -----  \n",
            " 0   fixed acidity         1599 non-null   float64\n",
            " 1   volatile acidity      1599 non-null   float64\n",
            " 2   citric acid           1599 non-null   float64\n",
            " 3   residual sugar        1599 non-null   float64\n",
            " 4   chlorides             1599 non-null   float64\n",
            " 5   free sulfur dioxide   1599 non-null   float64\n",
            " 6   total sulfur dioxide  1599 non-null   float64\n",
            " 7   density               1599 non-null   float64\n",
            " 8   pH                    1599 non-null   float64\n",
            " 9   sulphates             1599 non-null   float64\n",
            " 10  alcohol               1599 non-null   float64\n",
            " 11  quality               1599 non-null   int64  \n",
            "dtypes: float64(11), int64(1)\n",
            "memory usage: 150.0 KB\n"
          ],
          "name": "stdout"
        }
      ]
    },
    {
      "cell_type": "code",
      "metadata": {
        "id": "IJtiT_bkR5NB"
      },
      "source": [
        "x = dataset.iloc[:,:-1].values\n",
        "y = dataset.iloc[:,-1].values"
      ],
      "execution_count": null,
      "outputs": []
    },
    {
      "cell_type": "code",
      "metadata": {
        "id": "rjp2PP5WSFrx",
        "outputId": "5b07266b-9103-4e18-e145-8822f7a59721",
        "colab": {
          "base_uri": "https://localhost:8080/",
          "height": 139
        }
      },
      "source": [
        "x"
      ],
      "execution_count": null,
      "outputs": [
        {
          "output_type": "execute_result",
          "data": {
            "text/plain": [
              "array([[ 7.4  ,  0.7  ,  0.   , ...,  3.51 ,  0.56 ,  9.4  ],\n",
              "       [ 7.8  ,  0.88 ,  0.   , ...,  3.2  ,  0.68 ,  9.8  ],\n",
              "       [ 7.8  ,  0.76 ,  0.04 , ...,  3.26 ,  0.65 ,  9.8  ],\n",
              "       ...,\n",
              "       [ 6.3  ,  0.51 ,  0.13 , ...,  3.42 ,  0.75 , 11.   ],\n",
              "       [ 5.9  ,  0.645,  0.12 , ...,  3.57 ,  0.71 , 10.2  ],\n",
              "       [ 6.   ,  0.31 ,  0.47 , ...,  3.39 ,  0.66 , 11.   ]])"
            ]
          },
          "metadata": {
            "tags": []
          },
          "execution_count": 5
        }
      ]
    },
    {
      "cell_type": "code",
      "metadata": {
        "id": "1ajxONWpSGw3",
        "outputId": "7065bbc1-1f2c-4590-b001-b2d629b619fb",
        "colab": {
          "base_uri": "https://localhost:8080/",
          "height": 35
        }
      },
      "source": [
        "y"
      ],
      "execution_count": null,
      "outputs": [
        {
          "output_type": "execute_result",
          "data": {
            "text/plain": [
              "array([5, 5, 5, ..., 6, 5, 6])"
            ]
          },
          "metadata": {
            "tags": []
          },
          "execution_count": 6
        }
      ]
    },
    {
      "cell_type": "markdown",
      "metadata": {
        "id": "8TWng8s_9u0H"
      },
      "source": [
        "Model building\n"
      ]
    },
    {
      "cell_type": "code",
      "metadata": {
        "id": "Vv6GQJPaSKEh"
      },
      "source": [
        "from sklearn.model_selection import train_test_split #training and testing data split"
      ],
      "execution_count": null,
      "outputs": []
    },
    {
      "cell_type": "code",
      "metadata": {
        "id": "cNEgIzggSvQe"
      },
      "source": [
        "x_train,x_test,y_train,y_test=train_test_split(x,y,test_size=0.2)"
      ],
      "execution_count": null,
      "outputs": []
    },
    {
      "cell_type": "code",
      "metadata": {
        "id": "IsBIXloqTXNk"
      },
      "source": [
        "plt.plot = (x_train,y_train,'b.')"
      ],
      "execution_count": null,
      "outputs": []
    },
    {
      "cell_type": "code",
      "metadata": {
        "id": "gvq_YSNwTp70"
      },
      "source": [
        "plt.plot=(x_test,y_test,'b.')"
      ],
      "execution_count": null,
      "outputs": []
    },
    {
      "cell_type": "code",
      "metadata": {
        "id": "dzgPPsJaTy2z",
        "outputId": "b7217ffd-e89b-4370-e1b1-82efe0af362b",
        "colab": {
          "base_uri": "https://localhost:8080/",
          "height": 35
        }
      },
      "source": [
        "len(x_train)"
      ],
      "execution_count": null,
      "outputs": [
        {
          "output_type": "execute_result",
          "data": {
            "text/plain": [
              "1279"
            ]
          },
          "metadata": {
            "tags": []
          },
          "execution_count": 11
        }
      ]
    },
    {
      "cell_type": "markdown",
      "metadata": {
        "id": "bSvafFxB8Q-f"
      },
      "source": [
        "Data is Standardised"
      ]
    },
    {
      "cell_type": "code",
      "metadata": {
        "id": "hcqzCrLpf6n9"
      },
      "source": [
        "from sklearn.preprocessing import StandardScaler"
      ],
      "execution_count": null,
      "outputs": []
    },
    {
      "cell_type": "code",
      "metadata": {
        "id": "HVNu-jHugH-B"
      },
      "source": [
        "sc = StandardScaler()"
      ],
      "execution_count": null,
      "outputs": []
    },
    {
      "cell_type": "code",
      "metadata": {
        "id": "Ug8IstzNgNjY"
      },
      "source": [
        "x_train = sc.fit_transform(x_train)\n",
        "x_test = sc.transform(x_test)"
      ],
      "execution_count": null,
      "outputs": []
    },
    {
      "cell_type": "code",
      "metadata": {
        "id": "5o0gm-UFhABX",
        "outputId": "6f3e84a8-66f8-4ef3-97c3-c51512991926",
        "colab": {
          "base_uri": "https://localhost:8080/",
          "height": 243
        }
      },
      "source": [
        "x_test"
      ],
      "execution_count": null,
      "outputs": [
        {
          "output_type": "execute_result",
          "data": {
            "text/plain": [
              "array([[-0.29035759,  0.11489575, -1.39800201, ..., -0.33327714,\n",
              "        -0.094006  , -0.93571984],\n",
              "       [ 2.58935206, -1.27801096,  2.44893209, ..., -0.71741183,\n",
              "         0.67786452,  0.37101854],\n",
              "       [-0.69351694, -1.72374111,  1.14929219, ...,  0.49901469,\n",
              "        -0.56900325,  1.86443382],\n",
              "       ...,\n",
              "       [-0.9814879 ,  1.81424193, -1.29403082, ...,  1.45935142,\n",
              "        -0.33150463,  0.55769545],\n",
              "       [ 0.6311495 , -1.05514589,  0.52546504, ..., -0.58936694,\n",
              "        -0.21275531, -1.12239675],\n",
              "       [ 0.11280176, -0.3308344 ,  0.00560908, ..., -0.97350163,\n",
              "         1.15286177,  0.6510339 ]])"
            ]
          },
          "metadata": {
            "tags": []
          },
          "execution_count": 15
        }
      ]
    },
    {
      "cell_type": "code",
      "metadata": {
        "id": "tP79x3a-ijrb"
      },
      "source": [
        "from sklearn.tree import DecisionTreeClassifier"
      ],
      "execution_count": null,
      "outputs": []
    },
    {
      "cell_type": "code",
      "metadata": {
        "id": "OJOgLM9RiqLE"
      },
      "source": [
        "dcla = DecisionTreeClassifier()"
      ],
      "execution_count": null,
      "outputs": []
    },
    {
      "cell_type": "code",
      "metadata": {
        "id": "-uTmAlbQiyhl",
        "outputId": "9c47e190-58a3-4253-9830-075453ddb2ca",
        "colab": {
          "base_uri": "https://localhost:8080/",
          "height": 121
        }
      },
      "source": [
        "dcla.fit(x_train,y_train)"
      ],
      "execution_count": null,
      "outputs": [
        {
          "output_type": "execute_result",
          "data": {
            "text/plain": [
              "DecisionTreeClassifier(ccp_alpha=0.0, class_weight=None, criterion='gini',\n",
              "                       max_depth=None, max_features=None, max_leaf_nodes=None,\n",
              "                       min_impurity_decrease=0.0, min_impurity_split=None,\n",
              "                       min_samples_leaf=1, min_samples_split=2,\n",
              "                       min_weight_fraction_leaf=0.0, presort='deprecated',\n",
              "                       random_state=None, splitter='best')"
            ]
          },
          "metadata": {
            "tags": []
          },
          "execution_count": 18
        }
      ]
    },
    {
      "cell_type": "code",
      "metadata": {
        "id": "P2FJkZhritrR"
      },
      "source": [
        "pred = dcla.predict(x_test)"
      ],
      "execution_count": null,
      "outputs": []
    },
    {
      "cell_type": "code",
      "metadata": {
        "id": "h5Ds6N5EBfM8",
        "outputId": "27e872b1-f57e-467c-e050-452cb8de8ba9",
        "colab": {
          "base_uri": "https://localhost:8080/",
          "height": 1000
        }
      },
      "source": [
        "for i in range(len(x_test)):\n",
        "    print(pred[i],y_test[i],pred[i]-y_test[i])"
      ],
      "execution_count": null,
      "outputs": [
        {
          "output_type": "stream",
          "text": [
            "6 6 0\n",
            "7 7 0\n",
            "5 6 -1\n",
            "5 5 0\n",
            "6 6 0\n",
            "7 7 0\n",
            "5 6 -1\n",
            "5 5 0\n",
            "7 7 0\n",
            "6 6 0\n",
            "6 5 1\n",
            "6 6 0\n",
            "6 3 3\n",
            "5 5 0\n",
            "6 7 -1\n",
            "6 6 0\n",
            "5 5 0\n",
            "5 5 0\n",
            "6 5 1\n",
            "5 6 -1\n",
            "6 5 1\n",
            "6 6 0\n",
            "5 7 -2\n",
            "6 6 0\n",
            "5 5 0\n",
            "5 5 0\n",
            "6 5 1\n",
            "5 5 0\n",
            "5 4 1\n",
            "6 6 0\n",
            "5 5 0\n",
            "6 5 1\n",
            "6 5 1\n",
            "4 5 -1\n",
            "6 7 -1\n",
            "6 6 0\n",
            "6 6 0\n",
            "6 6 0\n",
            "5 5 0\n",
            "6 6 0\n",
            "6 6 0\n",
            "6 6 0\n",
            "7 7 0\n",
            "5 6 -1\n",
            "5 5 0\n",
            "6 6 0\n",
            "6 6 0\n",
            "5 5 0\n",
            "5 6 -1\n",
            "6 5 1\n",
            "5 5 0\n",
            "6 5 1\n",
            "5 6 -1\n",
            "5 7 -2\n",
            "5 8 -3\n",
            "5 6 -1\n",
            "6 6 0\n",
            "6 6 0\n",
            "6 6 0\n",
            "7 6 1\n",
            "6 5 1\n",
            "5 5 0\n",
            "7 6 1\n",
            "5 5 0\n",
            "5 5 0\n",
            "4 5 -1\n",
            "5 5 0\n",
            "6 6 0\n",
            "5 5 0\n",
            "5 6 -1\n",
            "7 6 1\n",
            "5 5 0\n",
            "5 6 -1\n",
            "6 7 -1\n",
            "6 5 1\n",
            "6 6 0\n",
            "6 6 0\n",
            "6 6 0\n",
            "7 6 1\n",
            "6 6 0\n",
            "6 6 0\n",
            "6 5 1\n",
            "6 6 0\n",
            "4 5 -1\n",
            "6 6 0\n",
            "5 7 -2\n",
            "4 5 -1\n",
            "8 7 1\n",
            "5 5 0\n",
            "5 5 0\n",
            "5 5 0\n",
            "6 6 0\n",
            "5 4 1\n",
            "5 5 0\n",
            "7 6 1\n",
            "5 6 -1\n",
            "6 6 0\n",
            "5 5 0\n",
            "6 5 1\n",
            "6 6 0\n",
            "6 6 0\n",
            "6 6 0\n",
            "6 5 1\n",
            "6 6 0\n",
            "7 6 1\n",
            "5 5 0\n",
            "5 5 0\n",
            "6 5 1\n",
            "6 6 0\n",
            "6 5 1\n",
            "6 6 0\n",
            "7 6 1\n",
            "6 4 2\n",
            "7 6 1\n",
            "5 6 -1\n",
            "6 5 1\n",
            "5 6 -1\n",
            "6 6 0\n",
            "6 6 0\n",
            "5 5 0\n",
            "5 5 0\n",
            "6 4 2\n",
            "6 5 1\n",
            "6 6 0\n",
            "6 6 0\n",
            "5 5 0\n",
            "5 6 -1\n",
            "5 5 0\n",
            "6 6 0\n",
            "5 4 1\n",
            "6 6 0\n",
            "7 4 3\n",
            "8 7 1\n",
            "5 5 0\n",
            "6 6 0\n",
            "6 6 0\n",
            "4 5 -1\n",
            "5 6 -1\n",
            "6 6 0\n",
            "6 6 0\n",
            "5 5 0\n",
            "7 7 0\n",
            "5 5 0\n",
            "5 4 1\n",
            "6 5 1\n",
            "6 6 0\n",
            "5 6 -1\n",
            "5 6 -1\n",
            "6 6 0\n",
            "5 5 0\n",
            "6 6 0\n",
            "6 6 0\n",
            "5 5 0\n",
            "6 6 0\n",
            "5 5 0\n",
            "5 5 0\n",
            "7 7 0\n",
            "6 6 0\n",
            "6 6 0\n",
            "7 7 0\n",
            "6 5 1\n",
            "5 5 0\n",
            "6 6 0\n",
            "5 6 -1\n",
            "6 5 1\n",
            "7 6 1\n",
            "5 5 0\n",
            "5 5 0\n",
            "4 6 -2\n",
            "8 7 1\n",
            "7 7 0\n",
            "7 6 1\n",
            "7 6 1\n",
            "5 5 0\n",
            "5 5 0\n",
            "6 4 2\n",
            "5 5 0\n",
            "5 5 0\n",
            "6 5 1\n",
            "5 5 0\n",
            "6 6 0\n",
            "6 6 0\n",
            "5 5 0\n",
            "7 7 0\n",
            "4 5 -1\n",
            "6 6 0\n",
            "6 7 -1\n",
            "6 7 -1\n",
            "5 5 0\n",
            "6 5 1\n",
            "6 6 0\n",
            "5 6 -1\n",
            "4 6 -2\n",
            "5 5 0\n",
            "6 7 -1\n",
            "6 6 0\n",
            "5 3 2\n",
            "5 5 0\n",
            "6 5 1\n",
            "5 5 0\n",
            "5 5 0\n",
            "6 6 0\n",
            "5 5 0\n",
            "6 4 2\n",
            "6 6 0\n",
            "7 7 0\n",
            "6 7 -1\n",
            "6 6 0\n",
            "6 6 0\n",
            "3 5 -2\n",
            "6 5 1\n",
            "6 5 1\n",
            "5 6 -1\n",
            "5 5 0\n",
            "5 6 -1\n",
            "6 6 0\n",
            "6 6 0\n",
            "5 5 0\n",
            "6 6 0\n",
            "5 5 0\n",
            "6 6 0\n",
            "7 7 0\n",
            "6 6 0\n",
            "6 5 1\n",
            "7 6 1\n",
            "5 5 0\n",
            "5 6 -1\n",
            "5 5 0\n",
            "6 6 0\n",
            "6 6 0\n",
            "5 5 0\n",
            "5 5 0\n",
            "5 5 0\n",
            "6 6 0\n",
            "6 5 1\n",
            "5 5 0\n",
            "5 5 0\n",
            "6 6 0\n",
            "5 7 -2\n",
            "5 5 0\n",
            "5 5 0\n",
            "7 7 0\n",
            "5 5 0\n",
            "6 6 0\n",
            "5 5 0\n",
            "5 6 -1\n",
            "4 4 0\n",
            "5 5 0\n",
            "6 6 0\n",
            "6 7 -1\n",
            "7 7 0\n",
            "7 6 1\n",
            "5 5 0\n",
            "6 5 1\n",
            "6 6 0\n",
            "5 5 0\n",
            "5 5 0\n",
            "5 6 -1\n",
            "6 6 0\n",
            "5 6 -1\n",
            "5 5 0\n",
            "6 6 0\n",
            "6 6 0\n",
            "6 8 -2\n",
            "8 7 1\n",
            "6 6 0\n",
            "6 6 0\n",
            "6 6 0\n",
            "5 5 0\n",
            "5 6 -1\n",
            "6 7 -1\n",
            "6 6 0\n",
            "6 6 0\n",
            "7 7 0\n",
            "5 5 0\n",
            "6 5 1\n",
            "7 7 0\n",
            "6 7 -1\n",
            "6 5 1\n",
            "7 7 0\n",
            "7 6 1\n",
            "5 5 0\n",
            "5 6 -1\n",
            "6 5 1\n",
            "6 5 1\n",
            "6 6 0\n",
            "6 6 0\n",
            "5 5 0\n",
            "7 7 0\n",
            "7 5 2\n",
            "7 7 0\n",
            "7 7 0\n",
            "5 5 0\n",
            "7 7 0\n",
            "7 7 0\n",
            "7 7 0\n",
            "7 6 1\n",
            "6 5 1\n",
            "7 6 1\n",
            "5 5 0\n",
            "7 8 -1\n",
            "6 5 1\n",
            "6 7 -1\n",
            "7 6 1\n",
            "5 5 0\n",
            "5 6 -1\n",
            "7 7 0\n",
            "6 6 0\n",
            "5 5 0\n",
            "5 6 -1\n",
            "6 6 0\n",
            "5 5 0\n",
            "6 5 1\n",
            "6 6 0\n",
            "7 5 2\n",
            "5 5 0\n",
            "7 7 0\n",
            "6 6 0\n",
            "6 5 1\n",
            "5 6 -1\n"
          ],
          "name": "stdout"
        }
      ]
    },
    {
      "cell_type": "code",
      "metadata": {
        "id": "kKQt75HHDEU3"
      },
      "source": [
        "from sklearn.preprocessing import StandardScaler "
      ],
      "execution_count": null,
      "outputs": []
    },
    {
      "cell_type": "code",
      "metadata": {
        "id": "bVUDZt4kDMf8"
      },
      "source": [
        "a_train = y_train.reshape(len(y_train),1)\n",
        "a_test = y_test.reshape(len(y_test),1)"
      ],
      "execution_count": null,
      "outputs": []
    },
    {
      "cell_type": "code",
      "metadata": {
        "id": "AXUAvvSYD25v"
      },
      "source": [
        "x_sc = StandardScaler()\n",
        "y_sc = StandardScaler()"
      ],
      "execution_count": null,
      "outputs": []
    },
    {
      "cell_type": "code",
      "metadata": {
        "id": "IT5rlaxZEB-U"
      },
      "source": [
        "x_std_train = x_sc.fit_transform(x_train)\n",
        "y_std_train = y_sc.fit_transform(a_train)"
      ],
      "execution_count": null,
      "outputs": []
    },
    {
      "cell_type": "code",
      "metadata": {
        "id": "aJxh6AZsEqzO"
      },
      "source": [
        "x_std_test = x_sc.transform(x_test)\n",
        "y_std_test = y_sc.transform(a_test)"
      ],
      "execution_count": null,
      "outputs": []
    },
    {
      "cell_type": "code",
      "metadata": {
        "id": "9q32heQ-7Klg"
      },
      "source": [
        "from sklearn.metrics import accuracy_score #accuracy measure"
      ],
      "execution_count": null,
      "outputs": []
    },
    {
      "cell_type": "code",
      "metadata": {
        "id": "FYX5QX076vk9",
        "outputId": "25249818-ebfc-4c36-8ec0-806c6bf4d4af",
        "colab": {
          "base_uri": "https://localhost:8080/",
          "height": 35
        }
      },
      "source": [
        "accuracy_score(pred, y_test)\n",
        "                              "
      ],
      "execution_count": null,
      "outputs": [
        {
          "output_type": "execute_result",
          "data": {
            "text/plain": [
              "0.60625"
            ]
          },
          "metadata": {
            "tags": []
          },
          "execution_count": 27
        }
      ]
    },
    {
      "cell_type": "markdown",
      "metadata": {
        "id": "01s-TxbN6zk4"
      },
      "source": [
        "train on different algorithms \n"
      ]
    },
    {
      "cell_type": "code",
      "metadata": {
        "id": "tvMJlMi-8Vhx"
      },
      "source": [
        "from sklearn.ensemble import RandomForestClassifier\n",
        "from sklearn.neighbors import KNeighborsClassifier\n",
        "from sklearn.tree import DecisionTreeClassifier\n",
        "from sklearn.tree import DecisionTreeRegressor\n",
        "from sklearn.ensemble import RandomForestRegressor\n",
        "from sklearn.linear_model import LinearRegression\n",
        "from sklearn.svm import SVR #support vector machine"
      ],
      "execution_count": null,
      "outputs": []
    },
    {
      "cell_type": "code",
      "metadata": {
        "id": "F_QNJuK4c9D2"
      },
      "source": [
        "from sklearn.preprocessing import PolynomialFeatures"
      ],
      "execution_count": null,
      "outputs": []
    },
    {
      "cell_type": "code",
      "metadata": {
        "id": "HEefbZ6EeE_A"
      },
      "source": [
        "temp = PolynomialFeatures(degree=5)\n",
        "temp = temp.fit_transform(x_train)"
      ],
      "execution_count": null,
      "outputs": []
    },
    {
      "cell_type": "code",
      "metadata": {
        "id": "gzDaFtFvfiOh",
        "outputId": "1edfdeef-cf4d-449c-d7ce-69d68fb6bc34",
        "colab": {
          "base_uri": "https://localhost:8080/",
          "height": 243
        }
      },
      "source": [
        "temp"
      ],
      "execution_count": null,
      "outputs": [
        {
          "output_type": "execute_result",
          "data": {
            "text/plain": [
              "array([[ 1.        , -0.57832855, -1.25015283, ...,  0.69920392,\n",
              "        -0.88810198,  1.12803305],\n",
              "       [ 1.        , -0.29035759,  0.64420029, ..., -0.16594415,\n",
              "        -0.19780977, -0.23579443],\n",
              "       [ 1.        , -0.40554597,  0.11489575, ..., -0.11131822,\n",
              "        -0.11615917, -0.12121064],\n",
              "       ...,\n",
              "       [ 1.        ,  1.20709143, -1.11086216, ...,  0.10300538,\n",
              "         0.15342832,  0.22853419],\n",
              "       [ 1.        , -0.34795178, -0.21940187, ..., -0.00371391,\n",
              "        -0.02959255, -0.23579443],\n",
              "       [ 1.        , -0.69351694,  0.17061201, ..., -0.04932655,\n",
              "        -0.23858346, -1.15398426]])"
            ]
          },
          "metadata": {
            "tags": []
          },
          "execution_count": 31
        }
      ]
    },
    {
      "cell_type": "code",
      "metadata": {
        "id": "cXjwqBs5ddIJ"
      },
      "source": [
        "poly = PolynomialFeatures(degree=5)\n",
        "poly = poly.fit_transform(x_test)"
      ],
      "execution_count": null,
      "outputs": []
    },
    {
      "cell_type": "code",
      "metadata": {
        "id": "tQa4KaAffj9O",
        "outputId": "9454f58c-090e-445d-8e5a-13d229833d86",
        "colab": {
          "base_uri": "https://localhost:8080/",
          "height": 243
        }
      },
      "source": [
        "poly"
      ],
      "execution_count": null,
      "outputs": [
        {
          "output_type": "execute_result",
          "data": {
            "text/plain": [
              "array([[ 1.00000000e+00, -2.90357588e-01,  1.14895745e-01, ...,\n",
              "        -7.24016875e-03, -7.20674139e-02, -7.17346835e-01],\n",
              "       [ 1.00000000e+00,  2.58935206e+00, -1.27801096e+00, ...,\n",
              "         2.34678136e-02,  1.28447404e-02,  7.03036759e-03],\n",
              "       [ 1.00000000e+00, -6.93516939e-01, -1.72374111e+00, ...,\n",
              "         2.09831367e+00, -6.87547387e+00,  2.25286341e+01],\n",
              "       ...,\n",
              "       [ 1.00000000e+00, -9.81487903e-01,  1.81424193e+00, ...,\n",
              "         1.90620885e-02, -3.20684513e-02,  5.39492598e-02],\n",
              "       [ 1.00000000e+00,  6.31149497e-01, -1.05514589e+00, ...,\n",
              "        -6.40029566e-02, -3.37649429e-01, -1.78127922e+00],\n",
              "       [ 1.00000000e+00,  1.12801762e-01, -3.30834402e-01, ...,\n",
              "         3.66745917e-01,  2.07105510e-01,  1.16954792e-01]])"
            ]
          },
          "metadata": {
            "tags": []
          },
          "execution_count": 33
        }
      ]
    },
    {
      "cell_type": "code",
      "metadata": {
        "id": "0a_IPUEy8Lxk"
      },
      "source": [
        "rfcla = RandomForestClassifier(n_estimators = 100)\n",
        "rfreg = RandomForestRegressor(n_estimators=100)\n",
        "dreg = DecisionTreeRegressor()\n",
        "dcla = DecisionTreeClassifier()\n",
        "lreg = LinearRegression()\n",
        "kncla = KNeighborsClassifier()\n",
        "sreg = SVR()"
      ],
      "execution_count": null,
      "outputs": []
    },
    {
      "cell_type": "markdown",
      "metadata": {
        "id": "W1eROHVg7E5u"
      },
      "source": [
        "fit function"
      ]
    },
    {
      "cell_type": "code",
      "metadata": {
        "id": "67RL_-jE8s_1",
        "outputId": "f827cfb2-57a2-4bad-fbb6-dd39d1a336a4",
        "colab": {
          "base_uri": "https://localhost:8080/",
          "height": 107
        }
      },
      "source": [
        "rfcla.fit(x_train, y_train)\n",
        "rfreg.fit(x_train, y_train)\n",
        "dreg.fit(x_train, y_train)\n",
        "dcla.fit(x_train, y_train)\n",
        "lreg.fit(x_train, y_train)\n",
        "kncla.fit(x_train, y_train)\n",
        "sreg.fit(x_std_train, y_std_train)"
      ],
      "execution_count": null,
      "outputs": [
        {
          "output_type": "stream",
          "text": [
            "/usr/local/lib/python3.6/dist-packages/sklearn/utils/validation.py:760: DataConversionWarning: A column-vector y was passed when a 1d array was expected. Please change the shape of y to (n_samples, ), for example using ravel().\n",
            "  y = column_or_1d(y, warn=True)\n"
          ],
          "name": "stderr"
        },
        {
          "output_type": "execute_result",
          "data": {
            "text/plain": [
              "SVR(C=1.0, cache_size=200, coef0=0.0, degree=3, epsilon=0.1, gamma='scale',\n",
              "    kernel='rbf', max_iter=-1, shrinking=True, tol=0.001, verbose=False)"
            ]
          },
          "metadata": {
            "tags": []
          },
          "execution_count": 35
        }
      ]
    },
    {
      "cell_type": "code",
      "metadata": {
        "id": "wOKnRQkX80MK"
      },
      "source": [
        "rc_pred = rfcla.predict(x_test)\n",
        "rr_pred = rfreg.predict(x_test)\n",
        "dr_pred = dcla.predict(x_test)\n",
        "dc_pred = dreg.predict(x_test)\n",
        "kc_pred = kncla.predict(x_test)\n",
        "lr_pred = lreg.predict(x_test)\n",
        "sr_pred = sreg.predict(x_std_test)\n"
      ],
      "execution_count": null,
      "outputs": []
    },
    {
      "cell_type": "code",
      "metadata": {
        "id": "slSx8CJIWymV"
      },
      "source": [
        "from sklearn.metrics import r2_score\n",
        "from sklearn.metrics import mean_squared_error\n",
        "from sklearn.metrics import accuracy_score"
      ],
      "execution_count": null,
      "outputs": []
    },
    {
      "cell_type": "code",
      "metadata": {
        "id": "8BUoknTC8-Ll"
      },
      "source": [
        "z = r2_score(y_test,dr_pred)\n",
        "q = r2_score(y_test,rr_pred)\n",
        "t = r2_score(y_test,lr_pred)\n",
        "u = r2_score(y_std_test,sr_pred)"
      ],
      "execution_count": null,
      "outputs": []
    },
    {
      "cell_type": "code",
      "metadata": {
        "id": "UTS8aOGp9MnG",
        "outputId": "a19b396d-68ae-4173-c4af-0e9a89810776",
        "colab": {
          "base_uri": "https://localhost:8080/",
          "height": 52
        }
      },
      "source": [
        "print('decision tree regression')\n",
        "z"
      ],
      "execution_count": null,
      "outputs": [
        {
          "output_type": "stream",
          "text": [
            "decision tree regression\n"
          ],
          "name": "stdout"
        },
        {
          "output_type": "execute_result",
          "data": {
            "text/plain": [
              "0.0624098616993819"
            ]
          },
          "metadata": {
            "tags": []
          },
          "execution_count": 39
        }
      ]
    },
    {
      "cell_type": "code",
      "metadata": {
        "id": "iGJ2DuxZBwdb",
        "outputId": "8ab4eba8-5ec1-443a-b9a6-ec2d744a9229",
        "colab": {
          "base_uri": "https://localhost:8080/",
          "height": 52
        }
      },
      "source": [
        "print('random forrest regression')\n",
        "q"
      ],
      "execution_count": null,
      "outputs": [
        {
          "output_type": "stream",
          "text": [
            "random forrest regression\n"
          ],
          "name": "stdout"
        },
        {
          "output_type": "execute_result",
          "data": {
            "text/plain": [
              "0.5122316041960799"
            ]
          },
          "metadata": {
            "tags": []
          },
          "execution_count": 40
        }
      ]
    },
    {
      "cell_type": "code",
      "metadata": {
        "id": "RZipqikrCTNb",
        "outputId": "6121b9c1-f427-4498-e5eb-98dcf8a54534",
        "colab": {
          "base_uri": "https://localhost:8080/",
          "height": 52
        }
      },
      "source": [
        "print('linear regression')\n",
        "t"
      ],
      "execution_count": null,
      "outputs": [
        {
          "output_type": "stream",
          "text": [
            "linear regression\n"
          ],
          "name": "stdout"
        },
        {
          "output_type": "execute_result",
          "data": {
            "text/plain": [
              "0.3583938237187567"
            ]
          },
          "metadata": {
            "tags": []
          },
          "execution_count": 41
        }
      ]
    },
    {
      "cell_type": "code",
      "metadata": {
        "id": "bw7BkA37CbfD",
        "outputId": "733106da-bae6-41ab-b6db-979fcec36a87",
        "colab": {
          "base_uri": "https://localhost:8080/",
          "height": 52
        }
      },
      "source": [
        "print('support vector regression')\n",
        "u"
      ],
      "execution_count": null,
      "outputs": [
        {
          "output_type": "stream",
          "text": [
            "support vector regression\n"
          ],
          "name": "stdout"
        },
        {
          "output_type": "execute_result",
          "data": {
            "text/plain": [
              "0.4097273390718731"
            ]
          },
          "metadata": {
            "tags": []
          },
          "execution_count": 42
        }
      ]
    },
    {
      "cell_type": "code",
      "metadata": {
        "id": "J1-_DHQ9YHLJ"
      },
      "source": [
        "\n",
        "q = np.sqrt(mean_squared_error(y_test,rr_pred))\n",
        "t = np.sqrt(mean_squared_error(y_test,lr_pred))\n",
        "u = np.sqrt(mean_squared_error(y_std_test,sr_pred))\n",
        "z = np.sqrt(mean_squared_error(y_test,dr_pred))"
      ],
      "execution_count": null,
      "outputs": []
    },
    {
      "cell_type": "code",
      "metadata": {
        "id": "umqiyreOYb3v",
        "outputId": "43c6d1ac-869e-4d56-f1fb-5f47bf991dbb",
        "colab": {
          "base_uri": "https://localhost:8080/",
          "height": 52
        }
      },
      "source": [
        "print('decision tree regression(error)')\n",
        "z"
      ],
      "execution_count": null,
      "outputs": [
        {
          "output_type": "stream",
          "text": [
            "decision tree regression(error)\n"
          ],
          "name": "stdout"
        },
        {
          "output_type": "execute_result",
          "data": {
            "text/plain": [
              "0.7766112283504534"
            ]
          },
          "metadata": {
            "tags": []
          },
          "execution_count": 44
        }
      ]
    },
    {
      "cell_type": "code",
      "metadata": {
        "id": "ppyxaHQqC_Kc",
        "outputId": "81a977b9-dd68-4d57-e0f3-9f11b452fe91",
        "colab": {
          "base_uri": "https://localhost:8080/",
          "height": 52
        }
      },
      "source": [
        "print('random forrest regression(error)')\n",
        "q"
      ],
      "execution_count": null,
      "outputs": [
        {
          "output_type": "stream",
          "text": [
            "random forrest regression(error)\n"
          ],
          "name": "stdout"
        },
        {
          "output_type": "execute_result",
          "data": {
            "text/plain": [
              "0.5601495336068755"
            ]
          },
          "metadata": {
            "tags": []
          },
          "execution_count": 45
        }
      ]
    },
    {
      "cell_type": "code",
      "metadata": {
        "id": "_VGt_BkpDJRt",
        "outputId": "d404026b-cdf8-419f-bc79-7caee04a13e7",
        "colab": {
          "base_uri": "https://localhost:8080/",
          "height": 52
        }
      },
      "source": [
        "print('linear regression(error)')\n",
        "t"
      ],
      "execution_count": null,
      "outputs": [
        {
          "output_type": "stream",
          "text": [
            "linear regression(error)\n"
          ],
          "name": "stdout"
        },
        {
          "output_type": "execute_result",
          "data": {
            "text/plain": [
              "0.6424382907335172"
            ]
          },
          "metadata": {
            "tags": []
          },
          "execution_count": 46
        }
      ]
    },
    {
      "cell_type": "code",
      "metadata": {
        "id": "vwLHTEbpDSjc",
        "outputId": "b8385e24-9f6b-4055-e30b-ea1410f8c261",
        "colab": {
          "base_uri": "https://localhost:8080/",
          "height": 52
        }
      },
      "source": [
        "print('support vector regression(error)')\n",
        "u"
      ],
      "execution_count": null,
      "outputs": [
        {
          "output_type": "stream",
          "text": [
            "support vector regression(error)\n"
          ],
          "name": "stdout"
        },
        {
          "output_type": "execute_result",
          "data": {
            "text/plain": [
              "0.76235487904998"
            ]
          },
          "metadata": {
            "tags": []
          },
          "execution_count": 47
        }
      ]
    },
    {
      "cell_type": "code",
      "metadata": {
        "id": "gpsV4h6wd89V",
        "outputId": "7ac87b0f-4471-453f-895f-69675065cc4c",
        "colab": {
          "base_uri": "https://localhost:8080/",
          "height": 52
        }
      },
      "source": [
        "print('random forrest classifier')\n",
        "accuracy_score(rc_pred,y_test)"
      ],
      "execution_count": null,
      "outputs": [
        {
          "output_type": "stream",
          "text": [
            "random forrest classifier\n"
          ],
          "name": "stdout"
        },
        {
          "output_type": "execute_result",
          "data": {
            "text/plain": [
              "0.6875"
            ]
          },
          "metadata": {
            "tags": []
          },
          "execution_count": 48
        }
      ]
    },
    {
      "cell_type": "code",
      "metadata": {
        "id": "o4_iToD6ginV",
        "outputId": "eb0c0e1e-bf88-45fe-9593-0ad618540e91",
        "colab": {
          "base_uri": "https://localhost:8080/",
          "height": 52
        }
      },
      "source": [
        "print('decision tree classifier')\n",
        "accuracy_score(dc_pred,y_test)"
      ],
      "execution_count": null,
      "outputs": [
        {
          "output_type": "stream",
          "text": [
            "decision tree classifier\n"
          ],
          "name": "stdout"
        },
        {
          "output_type": "execute_result",
          "data": {
            "text/plain": [
              "0.66875"
            ]
          },
          "metadata": {
            "tags": []
          },
          "execution_count": 49
        }
      ]
    },
    {
      "cell_type": "code",
      "metadata": {
        "id": "BlA-iKL4gv2K",
        "outputId": "bfc3470e-9bec-461f-9d75-48f27034a2d4",
        "colab": {
          "base_uri": "https://localhost:8080/",
          "height": 52
        }
      },
      "source": [
        "print('k neighbors')\n",
        "accuracy_score(kc_pred,y_test)"
      ],
      "execution_count": null,
      "outputs": [
        {
          "output_type": "stream",
          "text": [
            "k neighbors\n"
          ],
          "name": "stdout"
        },
        {
          "output_type": "execute_result",
          "data": {
            "text/plain": [
              "0.5375"
            ]
          },
          "metadata": {
            "tags": []
          },
          "execution_count": 50
        }
      ]
    },
    {
      "cell_type": "markdown",
      "metadata": {
        "id": "E4_2PQa8Detn"
      },
      "source": [
        "wine quality is good\n"
      ]
    }
  ]
}